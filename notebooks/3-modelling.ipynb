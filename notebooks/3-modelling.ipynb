{
 "cells": [
  {
   "cell_type": "markdown",
   "metadata": {
    "id": "9h3j6wQy5T8y"
   },
   "source": [
    "# Set up"
   ]
  },
  {
   "cell_type": "markdown",
   "metadata": {
    "id": "G5jSfmKIQmjP"
   },
   "source": [
    "Define work location :"
   ]
  },
  {
   "cell_type": "code",
   "execution_count": null,
   "metadata": {
    "executionInfo": {
     "elapsed": 6,
     "status": "ok",
     "timestamp": 1669826360622,
     "user": {
      "displayName": "Victor Barbier",
      "userId": "10827788304456120491"
     },
     "user_tz": -60
    },
    "id": "PCnjx3aDQpUG"
   },
   "outputs": [],
   "source": [
    "project_path = \"/Users/victor/Documents/OPENCLASSROOMS/projet_7\""
   ]
  },
  {
   "cell_type": "markdown",
   "metadata": {
    "id": "Ep7bFK5h5YDB"
   },
   "source": [
    "Python librairies imports :"
   ]
  },
  {
   "cell_type": "code",
   "execution_count": null,
   "metadata": {
    "executionInfo": {
     "elapsed": 13034,
     "status": "ok",
     "timestamp": 1669826456064,
     "user": {
      "displayName": "Victor Barbier",
      "userId": "10827788304456120491"
     },
     "user_tz": -60
    },
    "id": "o7zNBmZWRW1m"
   },
   "outputs": [],
   "source": [
    "# File system management\n",
    "import os\n",
    "\n",
    "# Data manipulation\n",
    "import numpy as np\n",
    "import pandas as pd\n",
    "\n",
    "# Data algoritms\n",
    "from sklearn.model_selection import cross_validate, train_test_split\n",
    "from sklearn.linear_model import LogisticRegression\n",
    "from sklearn.impute import SimpleImputer\n",
    "\n",
    "from imblearn.over_sampling import SMOTE\n",
    "\n",
    "# Plotting\n",
    "import matplotlib.pyplot as plt\n",
    "import seaborn as sns\n",
    "\n",
    "%matplotlib inline\n",
    "sns.set_theme(palette=\"Set1\")"
   ]
  },
  {
   "cell_type": "markdown",
   "metadata": {
    "id": "ttBI6Jfp-KFe"
   },
   "source": [
    "Load data :"
   ]
  },
  {
   "cell_type": "code",
   "execution_count": null,
   "metadata": {
    "executionInfo": {
     "elapsed": 2551,
     "status": "ok",
     "timestamp": 1669826458608,
     "user": {
      "displayName": "Victor Barbier",
      "userId": "10827788304456120491"
     },
     "user_tz": -60
    },
    "id": "w06w3Eou-G7H"
   },
   "outputs": [],
   "source": [
    "# Load data\n",
    "data = pd.read_csv(project_path + \"/data/processed/train_features.csv\", index_col=[0])"
   ]
  },
  {
   "attachments": {},
   "cell_type": "markdown",
   "metadata": {},
   "source": [
    "# Functions"
   ]
  },
  {
   "attachments": {},
   "cell_type": "markdown",
   "metadata": {},
   "source": [
    "# Data preparation"
   ]
  },
  {
   "cell_type": "code",
   "execution_count": null,
   "metadata": {},
   "outputs": [],
   "source": [
    "data = data.reset_index()\n",
    "\n",
    "# Define target and features\n",
    "target = data['TARGET']\n",
    "features = data.drop(columns='TARGET')"
   ]
  },
  {
   "cell_type": "code",
   "execution_count": null,
   "metadata": {},
   "outputs": [],
   "source": [
    "# Check percentage of missing values\n",
    "print(data.isna().sum().sum()/data.size*100)"
   ]
  },
  {
   "cell_type": "code",
   "execution_count": null,
   "metadata": {},
   "outputs": [],
   "source": [
    "# Create imputer\n",
    "imp_mean = SimpleImputer(missing_values=np.nan, strategy='mean')\n",
    "\n",
    "# Fit to data\n",
    "imp_mean.fit(features)\n",
    "\n",
    "# Transform data\n",
    "data = imp_mean.transform(features)"
   ]
  },
  {
   "cell_type": "code",
   "execution_count": null,
   "metadata": {},
   "outputs": [],
   "source": [
    "# Check class weights\n",
    "display(target.value_counts())"
   ]
  },
  {
   "cell_type": "code",
   "execution_count": null,
   "metadata": {},
   "outputs": [],
   "source": [
    "# Split dataset\n",
    "x_train, x_test, y_train, y_test = train_test_split(features, target, train_size=0.8, random_state=0)"
   ]
  },
  {
   "cell_type": "code",
   "execution_count": null,
   "metadata": {},
   "outputs": [],
   "source": [
    "# # Balance data\n",
    "# sm_data_x, sm_data_y = SMOTE(random_state=0).fit_resample(x_train, y_train)\n",
    "# sm_data_x = pd.DataFrame(data=sm_data_x, columns=features.columns)\n",
    "# sm_data_y = pd.DataFrame(data=sm_data_y, columns=['TARGET'])\n",
    "\n",
    "# # Check balanced data\n",
    "# print(\"length of oversampled data is \",len(sm_data_x))\n",
    "# print(\"Number of no subscription in oversampled data\",len(sm_data_y[sm_data_y['TARGET']==1]))\n",
    "# print(\"Number of subscription\",len(sm_data_y[sm_data_y['TARGET']==0]))\n",
    "# print(\"Proportion of no subscription data in oversampled data is \",len(sm_data_y[sm_data_y['TARGET']==1])/len(sm_data_x))\n",
    "# print(\"Proportion of subscription data in oversampled data is \",len(sm_data_y[sm_data_y['TARGET']==0])/len(sm_data_x))"
   ]
  },
  {
   "attachments": {},
   "cell_type": "markdown",
   "metadata": {},
   "source": [
    "# Classification"
   ]
  },
  {
   "cell_type": "code",
   "execution_count": null,
   "metadata": {},
   "outputs": [],
   "source": [
    "# Create logistic regression model\n",
    "clf = LogisticRegression(random_state=0)\n",
    "\n",
    "# Fit to data\n",
    "clf.fit(x_train, y_train)"
   ]
  },
  {
   "cell_type": "code",
   "execution_count": null,
   "metadata": {},
   "outputs": [],
   "source": []
  }
 ],
 "metadata": {
  "kernelspec": {
   "display_name": "oc_p7",
   "language": "python",
   "name": "python3"
  },
  "language_info": {
   "codemirror_mode": {
    "name": "ipython",
    "version": 3
   },
   "file_extension": ".py",
   "mimetype": "text/x-python",
   "name": "python",
   "nbconvert_exporter": "python",
   "pygments_lexer": "ipython3",
   "version": "3.10.8 (main, Nov 24 2022, 08:08:27) [Clang 14.0.6 ]"
  },
  "orig_nbformat": 4,
  "vscode": {
   "interpreter": {
    "hash": "dcaaa7a9d183f459d4e465c07043dbad484a0558a90dd2447d0bcf4ac8fcf6e2"
   }
  }
 },
 "nbformat": 4,
 "nbformat_minor": 2
}
